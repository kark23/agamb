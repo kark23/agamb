{
 "cells": [
  {
   "cell_type": "code",
   "execution_count": 21,
   "metadata": {},
   "outputs": [],
   "source": [
    "import pandas as pd\n",
    "import copy as cp\n",
    "from customfunctions import *\n",
    "\n",
    "mapdoc=pd.read_excel('data/mapping/team_map.xlsx')\n",
    "mapdic={}\n",
    "for idx, row in mapdoc.iterrows():\n",
    "    mapdic[row['oddsteams']]=row['nflscrapr']\n",
    "\n",
    "oddshome=pd.read_excel('data/odds/nfl.xlsx')\n",
    "\n",
    "oddshome['home']=oddshome['Home Team'].map(mapdic)\n",
    "oddshome['away']=oddshome['Away Team'].map(mapdic)\n",
    "oddshome['date'] = pd.to_datetime(oddshome['Date'], format='%Y-%m-%d')\n",
    "\n",
    "oddsaway=cp.copy(oddshome)\n",
    "\n",
    "oddshome['to']='home'\n",
    "oddsaway['to']='away'\n",
    "oddshome['outcome_dif']=oddshome['Home Score']-oddshome['Away Score']\n",
    "oddsaway['outcome_dif']=oddsaway['Away Score']-oddshome['Home Score']\n",
    "\n",
    "spoddshome=cp.copy(oddshome)\n",
    "spoddsaway=cp.copy(oddsaway)\n",
    "\n",
    "oddshome['spread']=0\n",
    "oddsaway['spread']=0\n",
    "spoddshome['spread']=spoddshome['Home Line Open']\n",
    "spoddsaway['spread']=spoddsaway['Away Line Open']\n",
    "\n",
    "oddshome['prob']=oddshome['Home Odds Open'].apply(dectoprob)\n",
    "oddsaway['prob']=oddsaway['Away Odds Open'].apply(dectoprob)\n",
    "spoddshome['prob']=spoddshome['Home Line Odds Open'].apply(dectoprob)\n",
    "spoddsaway['prob']=spoddsaway['Away Line Odds Open'].apply(dectoprob)\n",
    "\n",
    "for df in [oddshome,oddsaway,spoddshome,spoddsaway]:\n",
    "    df['outcome_bin']=(df['outcome_dif']>-df['spread']).astype(int)\n",
    "\n",
    "main=pd.concat([oddshome,oddsaway,spoddshome,spoddsaway], ignore_index=True)\n",
    "main['amt']=0\n",
    "main=main[main['date']>='2014-09-04'][['home','away','to','date','spread','prob','outcome_dif','outcome_bin','amt']]\n",
    "\n",
    "main.to_csv('data/odds/hist_odds.csv')"
   ]
  }
 ],
 "metadata": {
  "kernelspec": {
   "display_name": "Python 3",
   "language": "python",
   "name": "python3"
  },
  "language_info": {
   "codemirror_mode": {
    "name": "ipython",
    "version": 3
   },
   "file_extension": ".py",
   "mimetype": "text/x-python",
   "name": "python",
   "nbconvert_exporter": "python",
   "pygments_lexer": "ipython3",
   "version": "3.6.7"
  }
 },
 "nbformat": 4,
 "nbformat_minor": 2
}
