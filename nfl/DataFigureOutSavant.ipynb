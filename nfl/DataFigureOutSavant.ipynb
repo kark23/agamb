{
 "cells": [
  {
   "cell_type": "code",
   "execution_count": 170,
   "metadata": {},
   "outputs": [],
   "source": [
    "import numpy as np\n",
    "import pandas as pd\n",
    "import datetime"
   ]
  },
  {
   "cell_type": "code",
   "execution_count": 171,
   "metadata": {},
   "outputs": [],
   "source": [
    "def gamelag(gm):\n",
    "    yr,wk=(gm[:4],gm[4:])\n",
    "    if wk=='1':\n",
    "        return str(int(yr)-1)+'17'\n",
    "    else:\n",
    "        return yr+str(int(wk)-1)"
   ]
  },
  {
   "cell_type": "code",
   "execution_count": 173,
   "metadata": {},
   "outputs": [],
   "source": [
    "main=pd.read_csv(\"nflsavant/pbp-2014.csv\")\n",
    "for i in range(2015,2020):\n",
    "    main=main.append(pd.read_csv(\"nflsavant/pbp-{0}.csv\".format(str(i))))\n",
    "main['Last']=main.Description.str.split(\".\", expand=True)[1].str.split(\" \", expand=True)[0]\n",
    "main['First']=main.Description.str.split(\".\", expand=True)[0].str.split(\"-\", expand=True)[1]\n",
    "main=main.join(main.groupby('SeasonYear')['GameDate'].agg(['min']), on='SeasonYear')\n",
    "main['GameDate'] = pd.to_datetime(main['GameDate'], format='%Y-%m-%d')\n",
    "main['min'] = pd.to_datetime(main['min'], format='%Y-%m-%d')\n",
    "main['Week']=((main['GameDate']-main['min']).astype(str).str.split(\" \", expand=True)[0].astype(int)//7)+1"
   ]
  },
  {
   "cell_type": "code",
   "execution_count": 174,
   "metadata": {},
   "outputs": [
    {
     "data": {
      "text/plain": [
       "0       2014-09-07\n",
       "1       2014-09-07\n",
       "2       2014-09-07\n",
       "3       2014-09-07\n",
       "4       2014-09-07\n",
       "           ...    \n",
       "26361   2019-09-08\n",
       "26362   2019-09-08\n",
       "26363   2019-09-05\n",
       "26364   2019-09-05\n",
       "26365   2019-09-08\n",
       "Name: GameDate, Length: 254598, dtype: datetime64[ns]"
      ]
     },
     "execution_count": 174,
     "metadata": {},
     "output_type": "execute_result"
    }
   ],
   "source": [
    "main['GameDate']"
   ]
  },
  {
   "cell_type": "code",
   "execution_count": 104,
   "metadata": {},
   "outputs": [],
   "source": [
    "rush=main[(main['IsRush']==1) & (main['IsNoPlay']==0)]"
   ]
  },
  {
   "cell_type": "code",
   "execution_count": 166,
   "metadata": {},
   "outputs": [],
   "source": [
    "smcols=['Yards','IsRush','IsTouchdown']\n",
    "his=30\n",
    "samp=rush[['Last','First','Week','SeasonYear']+smcols].groupby(['Last','First','Week','SeasonYear']).sum().reset_index()\n",
    "samp['Game0']=samp['SeasonYear'].astype(str)+samp['Week'].astype(str)\n",
    "rnm={}\n",
    "for i in range(1,his+1):\n",
    "    lagl=[]\n",
    "    for col in smcols:\n",
    "        lagl.append(col+str(i))\n",
    "        rnm[col]=col+str(i)\n",
    "    rnm['Game0']='Game'+str(i)\n",
    "    tmp=samp.rename(columns=rnm)\n",
    "    samp['Game'+str(i)]=samp['Game'+str(i-1)].apply(gamelag)\n",
    "    samp=samp.merge(tmp[['Game'+str(i),'First','Last']+lagl], how='left', on=['Game'+str(i),'First','Last'])"
   ]
  },
  {
   "cell_type": "code",
   "execution_count": 167,
   "metadata": {},
   "outputs": [
    {
     "data": {
      "text/plain": [
       "Last             INGRAM\n",
       "First                 M\n",
       "Week                  3\n",
       "SeasonYear         2019\n",
       "Yards               103\n",
       "                  ...  \n",
       "IsTouchdown29         0\n",
       "Game30            20177\n",
       "Yards30              74\n",
       "IsRush30             15\n",
       "IsTouchdown30         0\n",
       "Name: 5001, Length: 128, dtype: object"
      ]
     },
     "execution_count": 167,
     "metadata": {},
     "output_type": "execute_result"
    }
   ],
   "source": [
    "samp.iloc[5001]"
   ]
  },
  {
   "cell_type": "code",
   "execution_count": 117,
   "metadata": {},
   "outputs": [
    {
     "data": {
      "text/html": [
       "<div>\n",
       "<style scoped>\n",
       "    .dataframe tbody tr th:only-of-type {\n",
       "        vertical-align: middle;\n",
       "    }\n",
       "\n",
       "    .dataframe tbody tr th {\n",
       "        vertical-align: top;\n",
       "    }\n",
       "\n",
       "    .dataframe thead th {\n",
       "        text-align: right;\n",
       "    }\n",
       "</style>\n",
       "<table border=\"1\" class=\"dataframe\">\n",
       "  <thead>\n",
       "    <tr style=\"text-align: right;\">\n",
       "      <th></th>\n",
       "      <th>Last</th>\n",
       "      <th>First</th>\n",
       "      <th>Week</th>\n",
       "      <th>SeasonYear</th>\n",
       "      <th>Yards</th>\n",
       "      <th>IsRush</th>\n",
       "      <th>IsTouchdown</th>\n",
       "    </tr>\n",
       "  </thead>\n",
       "  <tbody>\n",
       "    <tr>\n",
       "      <td>123</td>\n",
       "      <td>AJAYI</td>\n",
       "      <td>J</td>\n",
       "      <td>6</td>\n",
       "      <td>2016</td>\n",
       "      <td>204</td>\n",
       "      <td>25</td>\n",
       "      <td>2</td>\n",
       "    </tr>\n",
       "    <tr>\n",
       "      <td>149</td>\n",
       "      <td>AJAYI</td>\n",
       "      <td>J</td>\n",
       "      <td>16</td>\n",
       "      <td>2016</td>\n",
       "      <td>206</td>\n",
       "      <td>32</td>\n",
       "      <td>1</td>\n",
       "    </tr>\n",
       "    <tr>\n",
       "      <td>738</td>\n",
       "      <td>BELL</td>\n",
       "      <td>L</td>\n",
       "      <td>6</td>\n",
       "      <td>2017</td>\n",
       "      <td>203</td>\n",
       "      <td>32</td>\n",
       "      <td>1</td>\n",
       "    </tr>\n",
       "    <tr>\n",
       "      <td>756</td>\n",
       "      <td>BELL</td>\n",
       "      <td>L</td>\n",
       "      <td>11</td>\n",
       "      <td>2014</td>\n",
       "      <td>204</td>\n",
       "      <td>33</td>\n",
       "      <td>1</td>\n",
       "    </tr>\n",
       "    <tr>\n",
       "      <td>765</td>\n",
       "      <td>BELL</td>\n",
       "      <td>L</td>\n",
       "      <td>14</td>\n",
       "      <td>2016</td>\n",
       "      <td>236</td>\n",
       "      <td>38</td>\n",
       "      <td>3</td>\n",
       "    </tr>\n",
       "    <tr>\n",
       "      <td>2392</td>\n",
       "      <td>CROWELL</td>\n",
       "      <td>I</td>\n",
       "      <td>5</td>\n",
       "      <td>2018</td>\n",
       "      <td>216</td>\n",
       "      <td>14</td>\n",
       "      <td>1</td>\n",
       "    </tr>\n",
       "    <tr>\n",
       "      <td>3540</td>\n",
       "      <td>FOURNETTE</td>\n",
       "      <td>L</td>\n",
       "      <td>4</td>\n",
       "      <td>2019</td>\n",
       "      <td>207</td>\n",
       "      <td>22</td>\n",
       "      <td>0</td>\n",
       "    </tr>\n",
       "    <tr>\n",
       "      <td>4220</td>\n",
       "      <td>GURLEY</td>\n",
       "      <td>T</td>\n",
       "      <td>6</td>\n",
       "      <td>2018</td>\n",
       "      <td>208</td>\n",
       "      <td>28</td>\n",
       "      <td>2</td>\n",
       "    </tr>\n",
       "    <tr>\n",
       "      <td>4440</td>\n",
       "      <td>HENRY</td>\n",
       "      <td>D</td>\n",
       "      <td>14</td>\n",
       "      <td>2018</td>\n",
       "      <td>238</td>\n",
       "      <td>17</td>\n",
       "      <td>4</td>\n",
       "    </tr>\n",
       "    <tr>\n",
       "      <td>5452</td>\n",
       "      <td>JOHNSON</td>\n",
       "      <td>K</td>\n",
       "      <td>4</td>\n",
       "      <td>2019</td>\n",
       "      <td>225</td>\n",
       "      <td>26</td>\n",
       "      <td>1</td>\n",
       "    </tr>\n",
       "    <tr>\n",
       "      <td>6512</td>\n",
       "      <td>MARTIN</td>\n",
       "      <td>D</td>\n",
       "      <td>11</td>\n",
       "      <td>2015</td>\n",
       "      <td>235</td>\n",
       "      <td>27</td>\n",
       "      <td>0</td>\n",
       "    </tr>\n",
       "    <tr>\n",
       "      <td>8017</td>\n",
       "      <td>PETERSON</td>\n",
       "      <td>A</td>\n",
       "      <td>10</td>\n",
       "      <td>2015</td>\n",
       "      <td>203</td>\n",
       "      <td>26</td>\n",
       "      <td>1</td>\n",
       "    </tr>\n",
       "    <tr>\n",
       "      <td>8319</td>\n",
       "      <td>RAWLS</td>\n",
       "      <td>T</td>\n",
       "      <td>11</td>\n",
       "      <td>2015</td>\n",
       "      <td>209</td>\n",
       "      <td>30</td>\n",
       "      <td>1</td>\n",
       "    </tr>\n",
       "  </tbody>\n",
       "</table>\n",
       "</div>"
      ],
      "text/plain": [
       "           Last First  Week  SeasonYear  Yards  IsRush  IsTouchdown\n",
       "123       AJAYI     J     6        2016    204      25            2\n",
       "149       AJAYI     J    16        2016    206      32            1\n",
       "738        BELL     L     6        2017    203      32            1\n",
       "756        BELL     L    11        2014    204      33            1\n",
       "765        BELL     L    14        2016    236      38            3\n",
       "2392    CROWELL     I     5        2018    216      14            1\n",
       "3540  FOURNETTE     L     4        2019    207      22            0\n",
       "4220     GURLEY     T     6        2018    208      28            2\n",
       "4440      HENRY     D    14        2018    238      17            4\n",
       "5452    JOHNSON     K     4        2019    225      26            1\n",
       "6512     MARTIN     D    11        2015    235      27            0\n",
       "8017   PETERSON     A    10        2015    203      26            1\n",
       "8319      RAWLS     T    11        2015    209      30            1"
      ]
     },
     "execution_count": 117,
     "metadata": {},
     "output_type": "execute_result"
    }
   ],
   "source": [
    "samp[samp['Yards']>200]"
   ]
  },
  {
   "cell_type": "code",
   "execution_count": 101,
   "metadata": {},
   "outputs": [],
   "source": []
  },
  {
   "cell_type": "code",
   "execution_count": 169,
   "metadata": {},
   "outputs": [
    {
     "data": {
      "text/plain": [
       "NYG    8286\n",
       "CLE    8233\n",
       "MIA    8174\n",
       "KC     8157\n",
       "CIN    8154\n",
       "SF     8135\n",
       "JAX    8101\n",
       "ARI    8094\n",
       "PHI    8091\n",
       "TB     8073\n",
       "TEN    8072\n",
       "OAK    8057\n",
       "DEN    8035\n",
       "NYJ    8030\n",
       "LA     8015\n",
       "GB     7965\n",
       "ATL    7948\n",
       "HOU    7886\n",
       "BUF    7864\n",
       "CHI    7848\n",
       "WAS    7847\n",
       "IND    7842\n",
       "MIN    7829\n",
       "SEA    7816\n",
       "BAL    7799\n",
       "NO     7795\n",
       "DET    7783\n",
       "CAR    7765\n",
       "NE     7739\n",
       "DAL    7726\n",
       "PIT    7709\n",
       "SD     4251\n",
       "LAC    3479\n",
       "Name: DefenseTeam, dtype: int64"
      ]
     },
     "execution_count": 169,
     "metadata": {},
     "output_type": "execute_result"
    }
   ],
   "source": [
    "main['DefenseTeam'].value_counts()"
   ]
  }
 ],
 "metadata": {
  "kernelspec": {
   "display_name": "Python 3",
   "language": "python",
   "name": "python3"
  },
  "language_info": {
   "codemirror_mode": {
    "name": "ipython",
    "version": 3
   },
   "file_extension": ".py",
   "mimetype": "text/x-python",
   "name": "python",
   "nbconvert_exporter": "python",
   "pygments_lexer": "ipython3",
   "version": "3.6.7"
  }
 },
 "nbformat": 4,
 "nbformat_minor": 2
}
